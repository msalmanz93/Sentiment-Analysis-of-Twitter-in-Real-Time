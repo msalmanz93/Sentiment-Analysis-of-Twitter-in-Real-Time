{
 "cells": [
  {
   "cell_type": "markdown",
   "metadata": {},
   "source": [
    "# Sentiment Analysis of real-time tweets\n",
    "\n",
    "The idea behind this project is to perform Sentiment Analysis of real-time tweets using twitter-API called 'Tweepy' and 'TextBlob' for processing textual data. "
   ]
  },
  {
   "cell_type": "markdown",
   "metadata": {},
   "source": [
    "# Import packages"
   ]
  },
  {
   "cell_type": "code",
   "execution_count": 19,
   "metadata": {},
   "outputs": [],
   "source": [
    "import tweepy\n",
    "import time\n",
    "from textblob import TextBlob "
   ]
  },
  {
   "cell_type": "markdown",
   "metadata": {},
   "source": [
    "# Granting Authorization From Twitter \n",
    "\n",
    "Consumer key, Consumer Secret, Access Key, Access Secret keys have been kept private, every developer will have their own."
   ]
  },
  {
   "cell_type": "code",
   "execution_count": 20,
   "metadata": {},
   "outputs": [],
   "source": [
    "CONSUMER_KEY = ''\n",
    "CONSUMER_SECRET = ''\n",
    "ACCESS_KEY = ''\n",
    "ACCESS_SECRET = ''\n",
    "\n",
    "auth = tweepy.OAuthHandler(CONSUMER_KEY, CONSUMER_SECRET)\n",
    "auth.set_access_token(ACCESS_KEY, ACCESS_SECRET)\n",
    "api = tweepy.API(auth)"
   ]
  },
  {
   "cell_type": "markdown",
   "metadata": {},
   "source": [
    "# Purpose of having a .txt file\n",
    "\n",
    "The .txt file will be used to save ID of last accessed tweet and this will be saved in your local repository."
   ]
  },
  {
   "cell_type": "code",
   "execution_count": 21,
   "metadata": {},
   "outputs": [],
   "source": [
    "FILE_NAME = 'last_seen_id_SA.txt'"
   ]
  },
  {
   "cell_type": "markdown",
   "metadata": {},
   "source": [
    "# Function to retrieve and Store IDs "
   ]
  },
  {
   "cell_type": "code",
   "execution_count": 22,
   "metadata": {},
   "outputs": [],
   "source": [
    "def retrieve_last_seen_id(file_name):\n",
    "    f_read = open(file_name, 'r')\n",
    "    last_seen_id = int(f_read.read().strip())\n",
    "    f_read.close()\n",
    "    return last_seen_id\n",
    "\n",
    "def store_last_seen_id(last_seen_id, file_name):\n",
    "    f_write = open(file_name, 'w')\n",
    "    f_write.write(str(last_seen_id))\n",
    "    f_write.close()\n",
    "    return"
   ]
  },
  {
   "cell_type": "markdown",
   "metadata": {},
   "source": [
    "# Applying Sentiment Analysis\n",
    "\n",
    "In the following function;\n",
    "1. 'public_tweets' - looks for 5 most recent tweets with the keyword 'Python'\n",
    "2. 'last_seen_id'  - saves the ID of the latest tweet.\n",
    "3. 'store_last_seen_id' - gets called to save last_seen_id\n",
    "4. 'analysis' - performs sentiment analysis of the tweet and prints out 'polarity' and 'subjectivity' of the tweet.\n",
    "\n",
    "Polarity is float which lies in the range of [-1,1] where 1 means positive statement and -1 means a negative statement. Subjective sentences generally refer to personal opinion, emotion or judgment whereas objective refers to factual information. Subjectivity is also a float which lies in the range of [0,1]."
   ]
  },
  {
   "cell_type": "code",
   "execution_count": 23,
   "metadata": {},
   "outputs": [],
   "source": [
    "def apply_sentiment_analysis():\n",
    "    print('Looking for tweets...', flush=True)\n",
    "    last_seen_id = retrieve_last_seen_id(FILE_NAME)\n",
    "    public_tweets = api.search(q='Trump',since_id = last_seen_id,count = 5,tweet_mode='extended',result_type = 'recent ')\n",
    "    for tweets in reversed(public_tweets):\n",
    "        print('TWEET ALERT - ' + str(tweets.id) + '-' + tweets.full_text, flush=True)\n",
    "        last_seen_id = tweets.id\n",
    "        store_last_seen_id(last_seen_id, FILE_NAME)\n",
    "        analysis = TextBlob(tweets.full_text)\n",
    "        print(analysis.sentiment)\n",
    "        print('\\n')"
   ]
  },
  {
   "cell_type": "code",
   "execution_count": 24,
   "metadata": {},
   "outputs": [
    {
     "name": "stdout",
     "output_type": "stream",
     "text": [
      "Looking for tweets...\n",
      "TWEET ALERT - 1249046796816523266-RT @RonHall46: 15 People! \n",
      "\n",
      "Remember Folks Trump Said That\n",
      "We Had 15 Cases Of #CoronaVirus\n",
      "And They Were Going To Heal And\n",
      "Quickly Dwindle…\n",
      "Sentiment(polarity=0.3333333333333333, subjectivity=0.5)\n",
      "\n",
      "\n",
      "TWEET ALERT - 1249046796833349633-RT @dclaffoon: @jsolomonReports When will all these people abusing the system have to pay?  Never. Have no confidence in the system working…\n",
      "Sentiment(polarity=0.0, subjectivity=0.0)\n",
      "\n",
      "\n",
      "TWEET ALERT - 1249046797470691328-RT @littledeekay: Trump was just asked what metrics he is going to use to decide when to open the country's economy and he pointed to his h…\n",
      "Sentiment(polarity=0.0, subjectivity=0.5)\n",
      "\n",
      "\n",
      "TWEET ALERT - 1249046797558992899-RT @AshaRangappa_: Trump has a peculiar way of speaking when he literally has no idea wtf he is saying and making it up. Voice is slightly…\n",
      "Sentiment(polarity=-0.5, subjectivity=1.0)\n",
      "\n",
      "\n",
      "TWEET ALERT - 1249046798074863622-RT @PostOpinions: Trump’s narcissism is endangering his reelection. His own advisers admit it, @ThePlumLineGS writes https://t.co/OiPcnyGNta\n",
      "Sentiment(polarity=0.6, subjectivity=1.0)\n",
      "\n",
      "\n",
      "Looking for tweets...\n",
      "TWEET ALERT - 1249046819893465088-RT @AskmoreNorman: THE FREEDOM EXPRESS 🔥\n",
      "IT’S TRUMP #MAGA\n",
      "@AskmoreNorman \n",
      "@MelanieMetz6\n",
      "@MonaSalama\n",
      "@JMcCollum06\n",
      "@ChrisRoy489\n",
      "@cbrnetaskfor…\n",
      "Sentiment(polarity=0.0, subjectivity=0.0)\n",
      "\n",
      "\n",
      "TWEET ALERT - 1249046820040388615-RT @TurnCLTRed: @AriFleischer Democrats sent their two best recruits to attack Trump Admin Covid19 preparedness and response-Gov Newsom &amp; G…\n",
      "Sentiment(polarity=1.0, subjectivity=0.3)\n",
      "\n",
      "\n",
      "TWEET ALERT - 1249046820103176193-RT @funder: I hope everyone who loses someone to coronavirus sues Trump over his fraud.\n",
      "Sentiment(polarity=-0.3, subjectivity=0.1)\n",
      "\n",
      "\n",
      "TWEET ALERT - 1249046820187033600-RT @LibsInAmerica: Trump keeps hiring and firing. No wonder the pandemic response is such a mess.\n",
      "\n",
      "https://t.co/17xrnkb5Tt\n",
      "Sentiment(polarity=-0.0875, subjectivity=0.3375)\n",
      "\n",
      "\n",
      "TWEET ALERT - 1249046820627464193-RT @BarbMcQuade: By pushing disinformation about IG, FBI, and press, AG Barr demonstrates why he lacks credibility to lead DOJ. And he thro…\n",
      "Sentiment(polarity=0.0, subjectivity=0.0)\n",
      "\n",
      "\n",
      "Looking for tweets...\n",
      "TWEET ALERT - 1249046843100737539-@Michael_Little_ trump will be an accessory to murder if not directly found responsible for the murder of thousand by telling them to \"get out there\"\n",
      "Sentiment(polarity=0.07500000000000001, subjectivity=0.47500000000000003)\n",
      "\n",
      "\n",
      "TWEET ALERT - 1249046843104862218-RT @Aug_1405: Let's rebuild what Twitter purges and connect for Trump\n",
      "\n",
      "1. Follow me @Aug_1405 \n",
      "\n",
      "2. Post your @ handle and/or comment\n",
      "\n",
      "3. Re…\n",
      "Sentiment(polarity=0.0, subjectivity=0.0)\n",
      "\n",
      "\n",
      "TWEET ALERT - 1249046843238912000-@Trump_owo @realDonaldTrump You people are becoming like stale cookies. Almost unpalatable and not preferred. At least try to invent some of your own pathetic comments, instead of parroting the same old garbage.  Oh... and open your eyes to see you are the deceived ones!\n",
      "Sentiment(polarity=-0.08125, subjectivity=0.571875)\n",
      "\n",
      "\n",
      "TWEET ALERT - 1249046843675246592-RT @kylegriffin1: \"The chaotic culture of the Trump White House contributed to the crisis. A lack of planning and a failure to execute, com…\n",
      "Sentiment(polarity=-0.15833333333333335, subjectivity=0.15)\n",
      "\n",
      "\n",
      "TWEET ALERT - 1249046843725668352-RT @davidfrum: March 10: VP Pence promises total of 5 million tests by end of that week. https://t.co/hZVCZeVvwB\n",
      "\n",
      "April 9: Trump boasts tha…\n",
      "Sentiment(polarity=0.0, subjectivity=0.75)\n",
      "\n",
      "\n",
      "Looking for tweets...\n",
      "TWEET ALERT - 1249046865686884352-RT @NoahShachtman: this guy — THIS FREAKIN' GUY — is the brain genius behind Trump's favorite miracle drug. https://t.co/gEnEZrrwsw\n",
      "Sentiment(polarity=0.04999999999999999, subjectivity=0.85)\n",
      "\n",
      "\n",
      "TWEET ALERT - 1249046865712017408-You can keep whining and complaining tweeting #OPENAMERICANOW...it’s not happening anytime soon. You can listen to Trump too all you want(he doesn’t have the power to re-open the country, local governments do), you’re better off accepting reality, instead of being an idiot.\n",
      "Sentiment(polarity=-0.10000000000000002, subjectivity=0.43333333333333335)\n",
      "\n",
      "\n",
      "TWEET ALERT - 1249046865745596417-RT @Mike5517918482: @RTMcFadyen Look at ALL THE RESPECT the Trump Administration has for our service people. They had to fly out a FLUNKY t…\n",
      "Sentiment(polarity=0.8, subjectivity=0.9)\n",
      "\n",
      "\n",
      "TWEET ALERT - 1249046865825406977-RT @LGmarangon: #STOP_fakenews\n",
      "\n",
      "In USA a colpi di fake news presidenziali sono arrivati ad avere \n",
      "\n",
      "più di 500 mila contagi \n",
      "il record mondi…\n",
      "Sentiment(polarity=-0.5, subjectivity=1.0)\n",
      "\n",
      "\n",
      "TWEET ALERT - 1249046866332913664-The Secret Service has protected Trump family members on 4,000 trips in three years https://t.co/xahPPtI7SB\n",
      "Sentiment(polarity=-0.4, subjectivity=0.7)\n",
      "\n",
      "\n"
     ]
    },
    {
     "ename": "KeyboardInterrupt",
     "evalue": "",
     "output_type": "error",
     "traceback": [
      "\u001b[1;31m---------------------------------------------------------------------------\u001b[0m",
      "\u001b[1;31mKeyboardInterrupt\u001b[0m                         Traceback (most recent call last)",
      "\u001b[1;32m<ipython-input-24-f32c2a024bd5>\u001b[0m in \u001b[0;36m<module>\u001b[1;34m()\u001b[0m\n\u001b[0;32m      2\u001b[0m \u001b[1;32mwhile\u001b[0m \u001b[1;32mTrue\u001b[0m\u001b[1;33m:\u001b[0m\u001b[1;33m\u001b[0m\u001b[0m\n\u001b[0;32m      3\u001b[0m     \u001b[0mapply_sentiment_analysis\u001b[0m\u001b[1;33m(\u001b[0m\u001b[1;33m)\u001b[0m\u001b[1;33m\u001b[0m\u001b[0m\n\u001b[1;32m----> 4\u001b[1;33m     \u001b[0mtime\u001b[0m\u001b[1;33m.\u001b[0m\u001b[0msleep\u001b[0m\u001b[1;33m(\u001b[0m\u001b[1;36m5\u001b[0m\u001b[1;33m)\u001b[0m\u001b[1;33m\u001b[0m\u001b[0m\n\u001b[0m",
      "\u001b[1;31mKeyboardInterrupt\u001b[0m: "
     ]
    }
   ],
   "source": [
    "# call apply_sentiment_analysis every 5 seconds\n",
    "while True:\n",
    "    apply_sentiment_analysis()\n",
    "    time.sleep(5)"
   ]
  }
 ],
 "metadata": {
  "kernelspec": {
   "display_name": "Python 3",
   "language": "python",
   "name": "python3"
  },
  "language_info": {
   "codemirror_mode": {
    "name": "ipython",
    "version": 3
   },
   "file_extension": ".py",
   "mimetype": "text/x-python",
   "name": "python",
   "nbconvert_exporter": "python",
   "pygments_lexer": "ipython3",
   "version": "3.6.4"
  }
 },
 "nbformat": 4,
 "nbformat_minor": 2
}
